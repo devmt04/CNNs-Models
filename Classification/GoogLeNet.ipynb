{
  "cells": [
    {
      "cell_type": "code",
      "execution_count": 1,
      "id": "c75feb4b-8824-4cbe-a769-d15dfe0435e4",
      "metadata": {
        "id": "c75feb4b-8824-4cbe-a769-d15dfe0435e4",
        "outputId": "26b000c3-158d-4dc1-edc1-f606f422e1b6",
        "colab": {
          "base_uri": "https://localhost:8080/",
          "height": 121
        }
      },
      "outputs": [
        {
          "output_type": "execute_result",
          "data": {
            "text/plain": [
              "\"\\nAlso known as Inception v1.\\nInceptionNet are family of Networks, that are based on Inception Module. \\nThe developers of the InceptionNet were the first to focus on increasing the width and the \\ndepth of the model simultaneously to attain better accuracy while keeping the computing \\nresources constant.\\n\\nThe InceptionNet architecture focusses on parallel processing and 'extraction of various feature maps \\nconcurrently'.\\n\\nInception Module:\\nThe ideology behind the Inception module was that neurons that extract features together should learn together.\\n  ~ Hebbian's Principle\\nThe architecture does not follow Sequential model approach where every operation such \\nas pooling or convolution is performed one after the other.\\n\\n\\n\\n\""
            ],
            "application/vnd.google.colaboratory.intrinsic+json": {
              "type": "string"
            }
          },
          "metadata": {},
          "execution_count": 1
        }
      ],
      "source": [
        "\"\"\"\n",
        "Also known as Inception v1.\n",
        "InceptionNet are family of Networks, that are based on Inception Module.\n",
        "The developers of the InceptionNet were the first to focus on increasing the width and the\n",
        "depth of the model simultaneously to attain better accuracy while keeping the computing\n",
        "resources constant.\n",
        "\n",
        "The InceptionNet architecture focusses on parallel processing and 'extraction of various feature maps\n",
        "concurrently'.\n",
        "\n",
        "Inception Module:\n",
        "The ideology behind the Inception module was that neurons that extract features together should learn together.\n",
        "  ~ Hebbian's Principle\n",
        "The architecture does not follow Sequential model approach where every operation such\n",
        "as pooling or convolution is performed one after the other.\n",
        "\n",
        "\n",
        "\n",
        "\"\"\""
      ]
    },
    {
      "cell_type": "code",
      "source": [],
      "metadata": {
        "id": "FmmRfyvX7tUj"
      },
      "id": "FmmRfyvX7tUj",
      "execution_count": null,
      "outputs": []
    }
  ],
  "metadata": {
    "kernelspec": {
      "display_name": "Python 3",
      "name": "python3"
    },
    "language_info": {
      "codemirror_mode": {
        "name": "ipython",
        "version": 3
      },
      "file_extension": ".py",
      "mimetype": "text/x-python",
      "name": "python",
      "nbconvert_exporter": "python",
      "pygments_lexer": "ipython3",
      "version": "3.13.2"
    },
    "colab": {
      "provenance": [],
      "gpuType": "T4"
    },
    "accelerator": "GPU"
  },
  "nbformat": 4,
  "nbformat_minor": 5
}