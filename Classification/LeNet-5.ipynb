{
  "cells": [
    {
      "cell_type": "code",
      "execution_count": 4,
      "id": "e011eba2-4eda-4941-8250-4afc14741bcc",
      "metadata": {
        "id": "e011eba2-4eda-4941-8250-4afc14741bcc"
      },
      "outputs": [],
      "source": [
        "import torch\n",
        "import torchvision\n",
        "import torchvision.transforms as transforms"
      ]
    },
    {
      "cell_type": "code",
      "source": [
        "batch_size = 64\n",
        "num_classes = 10\n",
        "learning_rate = 0.001\n",
        "num_epochs = 10"
      ],
      "metadata": {
        "id": "rAstFytF1MfE"
      },
      "id": "rAstFytF1MfE",
      "execution_count": 6,
      "outputs": []
    },
    {
      "cell_type": "code",
      "source": [
        "train_dataset = torchvision.datasets.MNIST(root = './data',\n",
        "                                          train = True,\n",
        "                                          transform = transforms.Compose([\n",
        "                                                transforms.Resize((32,32)),\n",
        "                                                transforms.ToTensor(),\n",
        "                                                transforms.Normalize(mean = (0.1307,), std = (0.3081,))]),\n",
        "                                          download = True)\n",
        "\n",
        "\n",
        "test_dataset = torchvision.datasets.MNIST(root = './data',\n",
        "                                        train = False,\n",
        "                                        transform = transforms.Compose([\n",
        "                                                transforms.Resize((32,32)),\n",
        "                                                transforms.ToTensor(),\n",
        "                                                transforms.Normalize(mean = (0.1325,), std = (0.3105,))]),\n",
        "                                        download=True)\n",
        "\n",
        "\n",
        "train_loader = torch.utils.data.DataLoader(dataset = train_dataset,\n",
        "                                          batch_size = batch_size,\n",
        "                                          shuffle = True)\n",
        "\n",
        "\n",
        "test_loader = torch.utils.data.DataLoader(dataset = test_dataset,\n",
        "                                          batch_size = batch_size,\n",
        "                                          shuffle = True)"
      ],
      "metadata": {
        "id": "OnaEdfC7tXvD"
      },
      "id": "OnaEdfC7tXvD",
      "execution_count": 7,
      "outputs": []
    },
    {
      "cell_type": "code",
      "source": [
        "class LeNet5(torch.nn.Module):\n",
        "  def __init__(self, num_classes):\n",
        "    super().__init__()\n",
        "    self.layer1 = torch.nn.Sequential(\n",
        "        torch.nn.Conv2d(1, 6, kernel_size=5, stride=1, padding=0),\n",
        "        torch.nn.BatchNorm2d(6),\n",
        "        torch.nn.ReLU(),\n",
        "        torch.nn.MaxPool2d(kernel_size=2, stride=2)\n",
        "    )\n",
        "    self.layer2 = torch.nn.Sequential(\n",
        "        torch.nn.Conv2d(6, 16, kernel_size=5, stride=1, padding=0),\n",
        "        torch.nn.BatchNorm2d(16),\n",
        "        torch.nn.ReLU(),\n",
        "        torch.nn.MaxPool2d(kernel_size=2, stride=2)\n",
        "    )\n",
        "    self.fc = torch.nn.Linear(400, 120)\n",
        "    self.relu = torch.nn.ReLU()\n",
        "    self.fc1 = nn.Linear(120, 84)\n",
        "    self.relu1 = nn.ReLU()\n",
        "    self.fc2 = nn.Linear(84, num_classes)\n",
        "\n",
        "\n",
        "  def forward(self, x):\n",
        "    out = self.layer1(x)\n",
        "    out = self.layer2(out)\n",
        "    out = out.reshape(out.size(0), -1)\n",
        "    out = self.fc(out)\n",
        "    out = self.relu(out)\n",
        "    out = self.fc1(out)\n",
        "    out = self.relu1(out)\n",
        "    out = self.fc2(out)\n",
        "    return out"
      ],
      "metadata": {
        "id": "DcY5eB_71Awy"
      },
      "id": "DcY5eB_71Awy",
      "execution_count": 10,
      "outputs": []
    },
    {
      "cell_type": "code",
      "source": [
        "torch.cuda.is_available()"
      ],
      "metadata": {
        "id": "oSkqiAT11lSi",
        "outputId": "13cb1a2e-9e67-44a0-fd2c-2365bf14cb9a",
        "colab": {
          "base_uri": "https://localhost:8080/"
        }
      },
      "id": "oSkqiAT11lSi",
      "execution_count": 14,
      "outputs": [
        {
          "output_type": "execute_result",
          "data": {
            "text/plain": [
              "False"
            ]
          },
          "metadata": {},
          "execution_count": 14
        }
      ]
    },
    {
      "cell_type": "code",
      "source": [],
      "metadata": {
        "id": "eiiCzo6t9FqH"
      },
      "id": "eiiCzo6t9FqH",
      "execution_count": null,
      "outputs": []
    }
  ],
  "metadata": {
    "kernelspec": {
      "display_name": "Python 3 (ipykernel)",
      "language": "python",
      "name": "python3"
    },
    "language_info": {
      "codemirror_mode": {
        "name": "ipython",
        "version": 3
      },
      "file_extension": ".py",
      "mimetype": "text/x-python",
      "name": "python",
      "nbconvert_exporter": "python",
      "pygments_lexer": "ipython3",
      "version": "3.13.2"
    },
    "colab": {
      "provenance": []
    }
  },
  "nbformat": 4,
  "nbformat_minor": 5
}