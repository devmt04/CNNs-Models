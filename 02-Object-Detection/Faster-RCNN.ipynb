{
  "cells": [
    {
      "cell_type": "markdown",
      "source": [
        "## Faster R-CNN\n",
        "\n"
      ],
      "metadata": {
        "id": "9RmVBNrlqCRt"
      },
      "id": "9RmVBNrlqCRt"
    },
    {
      "cell_type": "code",
      "execution_count": 2,
      "id": "43046a72-2d65-45c8-967f-2f2c690b60b8",
      "metadata": {
        "id": "43046a72-2d65-45c8-967f-2f2c690b60b8",
        "outputId": "2ea912fa-2a5f-4750-c8c5-d03f8807bbb4",
        "colab": {
          "base_uri": "https://localhost:8080/",
          "height": 86
        }
      },
      "outputs": [
        {
          "output_type": "execute_result",
          "data": {
            "text/plain": [
              "'\\nIt is an object detection model that identifies objects in an image and draws bounding boxes around them, while also classifying what those objects are.\\n\\n\\nHere we do two things simultaneously, that is Classification and Regression. Classification to identify class of Object and Regression to find the\\ncordinates of bounding boxes around it.\\n\\nComponents:\\n\\nBackbone Network : Any pretrained Model - Feature Extractor\\n\\n\\nhttps://medium.com/@fractal.ai/guide-to-build-faster-rcnn-in-pytorch-42d47cb0ecd3\\n'"
            ],
            "application/vnd.google.colaboratory.intrinsic+json": {
              "type": "string"
            }
          },
          "metadata": {},
          "execution_count": 2
        }
      ],
      "source": [
        "\"\"\"\n",
        "It is an object detection model that identifies objects in an image and draws bounding boxes around them, while also classifying what those objects are.\n",
        "\n",
        "\n",
        "Here we do two things simultaneously, that is Classification and Regression. Classification to identify class of Object and Regression to find the\n",
        "cordinates of bounding boxes around it.\n",
        "\n",
        "Components:\n",
        "\n",
        "Backbone Network : Any pretrained Model - Feature Extractor\n",
        "\n",
        "\n",
        "https://medium.com/@fractal.ai/guide-to-build-faster-rcnn-in-pytorch-42d47cb0ecd3\n",
        "\"\"\""
      ]
    },
    {
      "cell_type": "code",
      "source": [],
      "metadata": {
        "id": "NqowsqOzOI8u"
      },
      "id": "NqowsqOzOI8u",
      "execution_count": null,
      "outputs": []
    }
  ],
  "metadata": {
    "kernelspec": {
      "display_name": "Python 3 (ipykernel)",
      "language": "python",
      "name": "python3"
    },
    "language_info": {
      "codemirror_mode": {
        "name": "ipython",
        "version": 3
      },
      "file_extension": ".py",
      "mimetype": "text/x-python",
      "name": "python",
      "nbconvert_exporter": "python",
      "pygments_lexer": "ipython3",
      "version": "3.13.3"
    },
    "colab": {
      "provenance": []
    }
  },
  "nbformat": 4,
  "nbformat_minor": 5
}